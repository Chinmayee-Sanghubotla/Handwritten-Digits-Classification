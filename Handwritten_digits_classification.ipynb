{
  "nbformat": 4,
  "nbformat_minor": 0,
  "metadata": {
    "colab": {
      "provenance": []
    },
    "kernelspec": {
      "name": "python3",
      "display_name": "Python 3"
    },
    "language_info": {
      "name": "python"
    }
  },
  "cells": [
    {
      "cell_type": "code",
      "execution_count": null,
      "metadata": {
        "id": "9-R62akFMK41"
      },
      "outputs": [],
      "source": [
        "import tensorflow as tf\n",
        "from tensorflow import keras\n",
        "import matplotlib.pyplot as plt\n",
        "import numpy as np"
      ]
    },
    {
      "cell_type": "code",
      "source": [
        "(x_train,y_train), (x_test,y_test)= tf.keras.datasets.mnist.load_data()"
      ],
      "metadata": {
        "colab": {
          "base_uri": "https://localhost:8080/"
        },
        "id": "xzCjbZQ9r5Fq",
        "outputId": "e8036073-73f1-4e25-864e-28c5525da1e8"
      },
      "execution_count": null,
      "outputs": [
        {
          "output_type": "stream",
          "name": "stdout",
          "text": [
            "Downloading data from https://storage.googleapis.com/tensorflow/tf-keras-datasets/mnist.npz\n",
            "11490434/11490434 [==============================] - 0s 0us/step\n"
          ]
        }
      ]
    },
    {
      "cell_type": "code",
      "source": [
        "len(x_train)"
      ],
      "metadata": {
        "colab": {
          "base_uri": "https://localhost:8080/"
        },
        "id": "wXI5AiJpr5H5",
        "outputId": "519394d4-2a72-412b-e93a-a02dadf6900f"
      },
      "execution_count": null,
      "outputs": [
        {
          "output_type": "execute_result",
          "data": {
            "text/plain": [
              "60000"
            ]
          },
          "metadata": {},
          "execution_count": 3
        }
      ]
    },
    {
      "cell_type": "code",
      "source": [
        "len(x_test)"
      ],
      "metadata": {
        "colab": {
          "base_uri": "https://localhost:8080/"
        },
        "id": "xnlu4i6Zr5KS",
        "outputId": "eabfa298-9fe3-4e7e-d384-be7a18398884"
      },
      "execution_count": null,
      "outputs": [
        {
          "output_type": "execute_result",
          "data": {
            "text/plain": [
              "10000"
            ]
          },
          "metadata": {},
          "execution_count": 11
        }
      ]
    },
    {
      "cell_type": "code",
      "source": [
        "x_train=x_train/255\n",
        "x_test=x_test/255"
      ],
      "metadata": {
        "id": "EFoBxCwf000v"
      },
      "execution_count": null,
      "outputs": []
    },
    {
      "cell_type": "code",
      "source": [
        "x_train.shape  "
      ],
      "metadata": {
        "colab": {
          "base_uri": "https://localhost:8080/"
        },
        "id": "VGfTPmjDr5Mp",
        "outputId": "2fa9278b-4f8f-45d6-f280-35db6fc7d8e5"
      },
      "execution_count": null,
      "outputs": [
        {
          "output_type": "execute_result",
          "data": {
            "text/plain": [
              "(60000, 28, 28)"
            ]
          },
          "metadata": {},
          "execution_count": 21
        }
      ]
    },
    {
      "cell_type": "code",
      "source": [
        "plt.matshow(x_train[4])"
      ],
      "metadata": {
        "colab": {
          "base_uri": "https://localhost:8080/",
          "height": 292
        },
        "id": "a1ibZlUxr5PQ",
        "outputId": "3a4676e1-faab-41ff-ab34-6cd0469c2ee0"
      },
      "execution_count": null,
      "outputs": [
        {
          "output_type": "execute_result",
          "data": {
            "text/plain": [
              "<matplotlib.image.AxesImage at 0x7fd404353e50>"
            ]
          },
          "metadata": {},
          "execution_count": 22
        },
        {
          "output_type": "display_data",
          "data": {
            "text/plain": [
              "<Figure size 288x288 with 1 Axes>"
            ],
            "image/png": "[encoded data removed]"
          },
          "metadata": {
            "needs_background": "light"
          }
        }
      ]
    },
    {
      "cell_type": "code",
      "source": [
        "y_train[:10]"
      ],
      "metadata": {
        "colab": {
          "base_uri": "https://localhost:8080/"
        },
        "id": "qVgC9njOtp8a",
        "outputId": "37a0ab76-a100-4834-bce0-efe43d3648a4"
      },
      "execution_count": null,
      "outputs": [
        {
          "output_type": "execute_result",
          "data": {
            "text/plain": [
              "array([5, 0, 4, 1, 9, 2, 1, 3, 1, 4], dtype=uint8)"
            ]
          },
          "metadata": {},
          "execution_count": 5
        }
      ]
    },
    {
      "cell_type": "code",
      "source": [
        "#flattening the matrix into array\n",
        "x_train_flattened=x_train.reshape(len(x_train),28*28)\n",
        "x_train_flattened.shape\n",
        "x_test_flattened= x_test.reshape(len(x_test),28*28)\n",
        "#there were 1000 test samples, the no of samples for the test and train \n",
        "#varies so we used len(x_train) and len(x_test) instead of using 6000,1000\n"
      ],
      "metadata": {
        "id": "AzsTmgKNtp_I"
      },
      "execution_count": null,
      "outputs": []
    },
    {
      "cell_type": "code",
      "source": [
        "model=keras.Sequential([\n",
        "\n",
        "    keras.layers.Dense(100,input_shape=(784,),activation='relu'),\n",
        "    keras.layers.Dense(10,activation='sigmoid')\n",
        "])\n",
        "\n",
        "model.compile(\n",
        "    optimizer='adam',\n",
        "    loss='sparse_categorical_crossentropy',\n",
        "    metrics=['accuracy']\n",
        ")\n",
        "model.fit(x_train_flattened,y_train,epochs=7)"
      ],
      "metadata": {
        "colab": {
          "base_uri": "https://localhost:8080/"
        },
        "id": "3VGK81PStqCS",
        "outputId": "92a2f617-61a2-4add-9308-dabc588fe34b"
      },
      "execution_count": null,
      "outputs": [
        {
          "output_type": "stream",
          "name": "stdout",
          "text": [
            "Epoch 1/7\n",
            "1875/1875 [==============================] - 11s 6ms/step - loss: 0.2673 - accuracy: 0.9236\n",
            "Epoch 2/7\n",
            "1875/1875 [==============================] - 15s 8ms/step - loss: 0.1213 - accuracy: 0.9647\n",
            "Epoch 3/7\n",
            "1875/1875 [==============================] - 8s 4ms/step - loss: 0.0860 - accuracy: 0.9744\n",
            "Epoch 4/7\n",
            "1875/1875 [==============================] - 7s 4ms/step - loss: 0.0659 - accuracy: 0.9803\n",
            "Epoch 5/7\n",
            "1875/1875 [==============================] - 7s 4ms/step - loss: 0.0522 - accuracy: 0.9837\n",
            "Epoch 6/7\n",
            "1875/1875 [==============================] - 7s 4ms/step - loss: 0.0426 - accuracy: 0.9870\n",
            "Epoch 7/7\n",
            "1875/1875 [==============================] - 7s 4ms/step - loss: 0.0347 - accuracy: 0.9895\n"
          ]
        },
        {
          "output_type": "execute_result",
          "data": {
            "text/plain": [
              "<keras.callbacks.History at 0x7fd1043bf990>"
            ]
          },
          "metadata": {},
          "execution_count": 11
        }
      ]
    },
    {
      "cell_type": "code",
      "source": [
        "model.evaluate(x_test_flattened,y_test)"
      ],
      "metadata": {
        "colab": {
          "base_uri": "https://localhost:8080/"
        },
        "id": "ZEbv9kSx0zcf",
        "outputId": "76787ce1-5abe-4321-eb77-0a81abbac226"
      },
      "execution_count": null,
      "outputs": [
        {
          "output_type": "stream",
          "name": "stdout",
          "text": [
            "313/313 [==============================] - 1s 3ms/step - loss: 0.0867 - accuracy: 0.9754\n"
          ]
        },
        {
          "output_type": "execute_result",
          "data": {
            "text/plain": [
              "[0.08665868639945984, 0.9753999710083008]"
            ]
          },
          "metadata": {},
          "execution_count": 12
        }
      ]
    },
    {
      "cell_type": "code",
      "source": [
        "model.predict(x_test_flattened)"
      ],
      "metadata": {
        "colab": {
          "base_uri": "https://localhost:8080/"
        },
        "id": "8siFMCtStqHi",
        "outputId": "2c26dea8-aa1a-4393-f8d3-21d3476a0db9"
      },
      "execution_count": null,
      "outputs": [
        {
          "output_type": "stream",
          "name": "stdout",
          "text": [
            "313/313 [==============================] - 1s 1ms/step\n"
          ]
        },
        {
          "output_type": "execute_result",
          "data": {
            "text/plain": [
              "array([[1.8120214e-02, 8.3028249e-02, 1.1025238e-02, ..., 9.9887979e-01,\n",
              "        3.2540346e-03, 1.1353456e-01],\n",
              "       [3.8682081e-02, 5.9893433e-02, 9.8907417e-01, ..., 1.1116493e-04,\n",
              "        9.2124802e-01, 6.9626877e-03],\n",
              "       [1.7030623e-04, 9.9442434e-01, 2.2967921e-01, ..., 6.3042171e-02,\n",
              "        7.9117097e-02, 2.5134592e-03],\n",
              "       ...,\n",
              "       [1.2721774e-03, 1.5805538e-03, 1.0523941e-02, ..., 8.6384192e-02,\n",
              "        3.6600012e-01, 2.3839748e-01],\n",
              "       [1.7842729e-02, 9.0749621e-02, 3.1273703e-03, ..., 2.4513589e-04,\n",
              "        4.8009259e-01, 1.0502850e-04],\n",
              "       [3.9567366e-02, 1.3804730e-02, 4.6321934e-01, ..., 3.8903817e-03,\n",
              "        9.8745781e-04, 4.1903146e-03]], dtype=float32)"
            ]
          },
          "metadata": {},
          "execution_count": 14
        }
      ]
    },
    {
      "cell_type": "code",
      "source": [],
      "metadata": {
        "id": "03HSU2e9r5SF"
      },
      "execution_count": null,
      "outputs": []
    },
    {
      "cell_type": "code",
      "source": [],
      "metadata": {
        "id": "CIk33W4Hr5Ua"
      },
      "execution_count": null,
      "outputs": []
    }
  ]
}